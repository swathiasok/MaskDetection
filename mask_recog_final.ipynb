{
 "cells": [
  {
   "cell_type": "markdown",
   "id": "b87aaabf",
   "metadata": {},
   "source": [
    "# MASK RECOGNITION"
   ]
  },
  {
   "cell_type": "markdown",
   "id": "c15be170",
   "metadata": {},
   "source": [
    "## Importing the libraries"
   ]
  },
  {
   "cell_type": "code",
   "execution_count": 1,
   "id": "d5804ca2",
   "metadata": {},
   "outputs": [],
   "source": [
    "import PIL\n",
    "import numpy as np\n",
    "import pandas as pd\n",
    "import matplotlib.pyplot as plt\n",
    "import tensorflow as tf\n",
    "import cv2\n",
    "import os\n",
    "import keras\n",
    "import shutil\n",
    "import random\n",
    "from keras.models import Sequential, Model\n",
    "from keras import layers\n",
    "from PIL import Image, ImageOps\n",
    "from keras.preprocessing import image\n",
    "from keras.preprocessing.image import ImageDataGenerator"
   ]
  },
  {
   "cell_type": "markdown",
   "id": "bee9998e",
   "metadata": {},
   "source": [
    "## Preprocessing the dataset"
   ]
  },
  {
   "cell_type": "markdown",
   "id": "bdf2a692",
   "metadata": {},
   "source": [
    "### Loading the dataset "
   ]
  },
  {
   "cell_type": "code",
   "execution_count": 2,
   "id": "092bc504",
   "metadata": {},
   "outputs": [],
   "source": [
    "rootdir= 'dataset/'\n",
    "\n",
    "classes = ['with_mask', 'without_mask']\n",
    "\n",
    "for i in classes:\n",
    "    \n",
    "    os.makedirs(rootdir +'train/' + i)\n",
    "\n",
    "    os.makedirs(rootdir +'test/' + i)\n",
    "\n",
    "    source = rootdir + i\n",
    "\n",
    "    allFileNames = os.listdir(source)\n",
    "\n",
    "    np.random.shuffle(allFileNames)\n",
    "\n",
    "    test_ratio = 0.25\n",
    "\n",
    "    train_FileNames, test_FileNames = np.split(np.array(allFileNames),\n",
    "                                                          [int(len(allFileNames)* (1 - test_ratio))])\n",
    "\n",
    "    train_FileNames = [source+'/'+ name for name in train_FileNames.tolist()]\n",
    "    test_FileNames = [source+'/' + name for name in test_FileNames.tolist()]\n",
    "\n",
    "    for name in train_FileNames:\n",
    "      shutil.copy(name, rootdir +'train/' + i)\n",
    "\n",
    "    for name in test_FileNames:\n",
    "      shutil.copy(name, rootdir +'test/' + i)"
   ]
  },
  {
   "cell_type": "code",
   "execution_count": 3,
   "id": "9d090ce7",
   "metadata": {},
   "outputs": [],
   "source": [
    "def create_dataset(img_folder):\n",
    "   \n",
    "    img_data_array=[]\n",
    "    class_name=[]\n",
    "   \n",
    "    for dir1 in os.listdir(img_folder):\n",
    "        for file in os.listdir(os.path.join(img_folder, dir1)):\n",
    "       \n",
    "            image_path= os.path.join(img_folder, dir1,  file)\n",
    "            image= cv2.imread( image_path, cv2.COLOR_BGR2RGB)\n",
    "            image=cv2.resize(image, (64,64),interpolation = cv2.INTER_AREA)\n",
    "            image=np.array(image)\n",
    "            image = image.astype('float32')\n",
    "            image /= 255 \n",
    "            img_data_array.append(image)\n",
    "            class_name.append(dir1)\n",
    "    return img_data_array, class_name"
   ]
  },
  {
   "cell_type": "code",
   "execution_count": 4,
   "id": "09b9b708",
   "metadata": {},
   "outputs": [
    {
     "name": "stdout",
     "output_type": "stream",
     "text": [
      "5664\n",
      "5664\n"
     ]
    }
   ],
   "source": [
    "X_train, y_train = create_dataset(r'dataset/train')\n",
    "print(len(X_train))\n",
    "print(len(y_train))"
   ]
  },
  {
   "cell_type": "code",
   "execution_count": 5,
   "id": "d37dc65f",
   "metadata": {},
   "outputs": [
    {
     "name": "stdout",
     "output_type": "stream",
     "text": [
      "1889\n",
      "1889\n"
     ]
    }
   ],
   "source": [
    "X_test, y_test = create_dataset(r'dataset/test')\n",
    "print(len(X_test))\n",
    "print(len(y_test))"
   ]
  },
  {
   "cell_type": "code",
   "execution_count": 6,
   "id": "e0f8138f",
   "metadata": {},
   "outputs": [
    {
     "data": {
      "text/plain": [
       "(64, 64, 3)"
      ]
     },
     "execution_count": 6,
     "metadata": {},
     "output_type": "execute_result"
    }
   ],
   "source": [
    "X_train[0].shape"
   ]
  },
  {
   "cell_type": "code",
   "execution_count": 7,
   "id": "2734aca1",
   "metadata": {},
   "outputs": [
    {
     "data": {
      "text/plain": [
       "{'with_mask': 0, 'without_mask': 1}"
      ]
     },
     "execution_count": 7,
     "metadata": {},
     "output_type": "execute_result"
    }
   ],
   "source": [
    "target_dict={k: v for v, k in enumerate(np.unique(y_train))}\n",
    "target_dict"
   ]
  },
  {
   "cell_type": "markdown",
   "id": "a3bce43f",
   "metadata": {},
   "source": [
    "#### Encoding the label"
   ]
  },
  {
   "cell_type": "code",
   "execution_count": 8,
   "id": "c373a0ab",
   "metadata": {},
   "outputs": [
    {
     "name": "stdout",
     "output_type": "stream",
     "text": [
      "5664\n"
     ]
    }
   ],
   "source": [
    "y_train =  [target_dict[y_train[i]] for i in range(len(y_train))]\n",
    "print(len(y_train))"
   ]
  },
  {
   "cell_type": "code",
   "execution_count": 9,
   "id": "230c0899",
   "metadata": {},
   "outputs": [
    {
     "name": "stdout",
     "output_type": "stream",
     "text": [
      "1889\n"
     ]
    }
   ],
   "source": [
    "y_test =  [target_dict[y_test[i]] for i in range(len(y_test))]\n",
    "print(len(y_test))"
   ]
  },
  {
   "cell_type": "code",
   "execution_count": 10,
   "id": "371dfdb3",
   "metadata": {},
   "outputs": [],
   "source": [
    "X_train = np.array(X_train)\n",
    "X_test = np.array(X_test)\n",
    "y_train = np.array(y_train)\n",
    "y_test = np.array(y_test)"
   ]
  },
  {
   "cell_type": "markdown",
   "id": "bf93c6a8",
   "metadata": {},
   "source": [
    "## Building the CNN Model"
   ]
  },
  {
   "cell_type": "code",
   "execution_count": 11,
   "id": "5d6bc788",
   "metadata": {},
   "outputs": [],
   "source": [
    "cnn = tf.keras.Sequential()"
   ]
  },
  {
   "cell_type": "markdown",
   "id": "6b467857",
   "metadata": {},
   "source": [
    "### Building the model"
   ]
  },
  {
   "cell_type": "code",
   "execution_count": 12,
   "id": "c3dbfc4a",
   "metadata": {},
   "outputs": [],
   "source": [
    "cnn.add(tf.keras.layers.Conv2D(32, 3, strides = (1, 1), padding = \"valid\", activation = \"relu\", input_shape = (64,64,3)))\n",
    "cnn.add(tf.keras.layers.MaxPooling2D(pool_size = (2, 2), strides = 1, padding = \"valid\"))\n",
    "cnn.add(tf.keras.layers.Conv2D(32, 3, strides = (1, 1), padding = \"valid\", activation = \"relu\"))\n",
    "cnn.add(tf.keras.layers.MaxPooling2D(pool_size = (2, 2), strides = 1, padding = \"valid\"))\n",
    "cnn.add(tf.keras.layers.Conv2D(32, 3, strides = (1, 1), padding = \"valid\", activation = \"relu\"))\n",
    "cnn.add(tf.keras.layers.MaxPooling2D(pool_size = (2, 2), strides = 1, padding = \"valid\"))\n",
    "cnn.add(tf.keras.layers.Flatten())\n",
    "cnn.add(tf.keras.layers.Dense(1024, activation = \"relu\"))\n",
    "cnn.add(tf.keras.layers.Dropout(0.2))\n",
    "cnn.add(tf.keras.layers.Dense(128, activation = \"relu\"))\n",
    "cnn.add(tf.keras.layers.Dropout(0.2))\n",
    "cnn.add(tf.keras.layers.Dense(1, activation = \"sigmoid\"))"
   ]
  },
  {
   "cell_type": "code",
   "execution_count": 13,
   "id": "59a96f96",
   "metadata": {},
   "outputs": [
    {
     "name": "stdout",
     "output_type": "stream",
     "text": [
      "Model: \"sequential\"\n",
      "_________________________________________________________________\n",
      " Layer (type)                Output Shape              Param #   \n",
      "=================================================================\n",
      " conv2d (Conv2D)             (None, 62, 62, 32)        896       \n",
      "                                                                 \n",
      " max_pooling2d (MaxPooling2D  (None, 61, 61, 32)       0         \n",
      " )                                                               \n",
      "                                                                 \n",
      " conv2d_1 (Conv2D)           (None, 59, 59, 32)        9248      \n",
      "                                                                 \n",
      " max_pooling2d_1 (MaxPooling  (None, 58, 58, 32)       0         \n",
      " 2D)                                                             \n",
      "                                                                 \n",
      " conv2d_2 (Conv2D)           (None, 56, 56, 32)        9248      \n",
      "                                                                 \n",
      " max_pooling2d_2 (MaxPooling  (None, 55, 55, 32)       0         \n",
      " 2D)                                                             \n",
      "                                                                 \n",
      " flatten (Flatten)           (None, 96800)             0         \n",
      "                                                                 \n",
      " dense (Dense)               (None, 1024)              99124224  \n",
      "                                                                 \n",
      " dropout (Dropout)           (None, 1024)              0         \n",
      "                                                                 \n",
      " dense_1 (Dense)             (None, 128)               131200    \n",
      "                                                                 \n",
      " dropout_1 (Dropout)         (None, 128)               0         \n",
      "                                                                 \n",
      " dense_2 (Dense)             (None, 1)                 129       \n",
      "                                                                 \n",
      "=================================================================\n",
      "Total params: 99,274,945\n",
      "Trainable params: 99,274,945\n",
      "Non-trainable params: 0\n",
      "_________________________________________________________________\n"
     ]
    }
   ],
   "source": [
    "cnn.summary()"
   ]
  },
  {
   "cell_type": "code",
   "execution_count": 14,
   "id": "4bee4654",
   "metadata": {},
   "outputs": [],
   "source": [
    "cnn.compile(loss = 'binary_crossentropy', optimizer = 'adam', metrics = ['accuracy']) "
   ]
  },
  {
   "cell_type": "markdown",
   "id": "cd361468",
   "metadata": {},
   "source": [
    "### Training the model "
   ]
  },
  {
   "cell_type": "code",
   "execution_count": 16,
   "id": "06c3d680",
   "metadata": {},
   "outputs": [
    {
     "name": "stdout",
     "output_type": "stream",
     "text": [
      "Epoch 1/25\n",
      "177/177 [==============================] - 118s 667ms/step - loss: 0.3099 - accuracy: 0.8711 - val_loss: 0.3519 - val_accuracy: 0.8544\n",
      "Epoch 2/25\n",
      "177/177 [==============================] - 101s 573ms/step - loss: 0.2241 - accuracy: 0.9124 - val_loss: 0.2048 - val_accuracy: 0.9259\n",
      "Epoch 3/25\n",
      "177/177 [==============================] - 99s 561ms/step - loss: 0.1674 - accuracy: 0.9364 - val_loss: 0.1842 - val_accuracy: 0.9285\n",
      "Epoch 4/25\n",
      "177/177 [==============================] - 100s 566ms/step - loss: 0.1334 - accuracy: 0.9481 - val_loss: 0.1711 - val_accuracy: 0.9428\n",
      "Epoch 5/25\n",
      "177/177 [==============================] - 102s 575ms/step - loss: 0.1162 - accuracy: 0.9550 - val_loss: 0.1906 - val_accuracy: 0.9238\n",
      "Epoch 6/25\n",
      "177/177 [==============================] - 102s 575ms/step - loss: 0.0813 - accuracy: 0.9726 - val_loss: 0.2143 - val_accuracy: 0.9359\n",
      "Epoch 7/25\n",
      "177/177 [==============================] - 102s 575ms/step - loss: 0.0688 - accuracy: 0.9746 - val_loss: 0.2265 - val_accuracy: 0.9381\n",
      "Epoch 8/25\n",
      "177/177 [==============================] - 102s 575ms/step - loss: 0.0591 - accuracy: 0.9795 - val_loss: 0.2638 - val_accuracy: 0.9248\n",
      "Epoch 9/25\n",
      "177/177 [==============================] - 102s 574ms/step - loss: 0.0405 - accuracy: 0.9857 - val_loss: 0.3462 - val_accuracy: 0.9381\n",
      "Epoch 10/25\n",
      "177/177 [==============================] - 101s 569ms/step - loss: 0.0480 - accuracy: 0.9848 - val_loss: 0.2725 - val_accuracy: 0.9391\n",
      "Epoch 11/25\n",
      "177/177 [==============================] - 100s 567ms/step - loss: 0.0358 - accuracy: 0.9887 - val_loss: 0.3511 - val_accuracy: 0.9158\n",
      "Epoch 12/25\n",
      "177/177 [==============================] - 100s 566ms/step - loss: 0.0371 - accuracy: 0.9869 - val_loss: 0.3241 - val_accuracy: 0.9375\n",
      "Epoch 13/25\n",
      "177/177 [==============================] - 100s 566ms/step - loss: 0.0302 - accuracy: 0.9926 - val_loss: 0.3195 - val_accuracy: 0.9455\n",
      "Epoch 14/25\n",
      "177/177 [==============================] - 100s 566ms/step - loss: 0.0195 - accuracy: 0.9928 - val_loss: 0.3326 - val_accuracy: 0.9412\n",
      "Epoch 15/25\n",
      "177/177 [==============================] - 101s 568ms/step - loss: 0.0298 - accuracy: 0.9910 - val_loss: 0.3344 - val_accuracy: 0.9412\n",
      "Epoch 16/25\n",
      "177/177 [==============================] - 102s 579ms/step - loss: 0.0247 - accuracy: 0.9922 - val_loss: 0.3307 - val_accuracy: 0.9365\n",
      "Epoch 17/25\n",
      "177/177 [==============================] - 98s 554ms/step - loss: 0.0241 - accuracy: 0.9929 - val_loss: 0.4073 - val_accuracy: 0.9391\n",
      "Epoch 18/25\n",
      "177/177 [==============================] - 97s 550ms/step - loss: 0.0369 - accuracy: 0.9889 - val_loss: 0.4670 - val_accuracy: 0.9391\n",
      "Epoch 19/25\n",
      "177/177 [==============================] - 98s 552ms/step - loss: 0.0157 - accuracy: 0.9944 - val_loss: 0.3814 - val_accuracy: 0.9344\n",
      "Epoch 20/25\n",
      "177/177 [==============================] - 97s 549ms/step - loss: 0.0239 - accuracy: 0.9922 - val_loss: 0.3185 - val_accuracy: 0.9412\n",
      "Epoch 21/25\n",
      "177/177 [==============================] - 97s 546ms/step - loss: 0.0187 - accuracy: 0.9944 - val_loss: 0.4159 - val_accuracy: 0.9423\n",
      "Epoch 22/25\n",
      "177/177 [==============================] - 97s 550ms/step - loss: 0.0136 - accuracy: 0.9963 - val_loss: 0.3067 - val_accuracy: 0.9471\n",
      "Epoch 23/25\n",
      "177/177 [==============================] - 98s 551ms/step - loss: 0.0071 - accuracy: 0.9979 - val_loss: 0.3589 - val_accuracy: 0.9449\n",
      "Epoch 24/25\n",
      "177/177 [==============================] - 98s 551ms/step - loss: 0.0574 - accuracy: 0.9836 - val_loss: 0.3373 - val_accuracy: 0.9243\n",
      "Epoch 25/25\n",
      "177/177 [==============================] - 97s 548ms/step - loss: 0.0172 - accuracy: 0.9942 - val_loss: 0.3240 - val_accuracy: 0.9391\n"
     ]
    }
   ],
   "source": [
    "model_saved = cnn.fit(X_train, y_train, epochs = 25, validation_data = (X_test, y_test))"
   ]
  },
  {
   "cell_type": "code",
   "execution_count": 17,
   "id": "fb2da1e1",
   "metadata": {},
   "outputs": [
    {
     "data": {
      "text/plain": [
       "0.9759675192832947"
      ]
     },
     "execution_count": 17,
     "metadata": {},
     "output_type": "execute_result"
    }
   ],
   "source": [
    "np.mean(model_saved.history['accuracy'])"
   ]
  },
  {
   "cell_type": "code",
   "execution_count": 18,
   "id": "30dfee92",
   "metadata": {},
   "outputs": [
    {
     "data": {
      "text/plain": [
       "0.9328321886062622"
      ]
     },
     "execution_count": 18,
     "metadata": {},
     "output_type": "execute_result"
    }
   ],
   "source": [
    "np.mean(model_saved.history['val_accuracy'])"
   ]
  },
  {
   "cell_type": "markdown",
   "id": "c6037c2d",
   "metadata": {},
   "source": [
    "### Save the Model"
   ]
  },
  {
   "cell_type": "code",
   "execution_count": 19,
   "id": "57982068",
   "metadata": {},
   "outputs": [
    {
     "name": "stderr",
     "output_type": "stream",
     "text": [
      "2022-02-14 22:34:58.973518: W tensorflow/python/util/util.cc:368] Sets are not currently considered sequences, but this may change in the future, so consider avoiding using them.\n"
     ]
    },
    {
     "name": "stdout",
     "output_type": "stream",
     "text": [
      "INFO:tensorflow:Assets written to: mymodel/assets\n"
     ]
    }
   ],
   "source": [
    "cnn.save('mymodel',model_saved)"
   ]
  },
  {
   "cell_type": "code",
   "execution_count": 20,
   "id": "529b1942",
   "metadata": {},
   "outputs": [],
   "source": [
    "cnn.save_weights('mymodel_weights',model_saved)"
   ]
  },
  {
   "cell_type": "markdown",
   "id": "b1e11960",
   "metadata": {},
   "source": [
    "## Plotting the graph"
   ]
  },
  {
   "cell_type": "markdown",
   "id": "f94b9b6b",
   "metadata": {},
   "source": [
    "### Accuracy"
   ]
  },
  {
   "cell_type": "code",
   "execution_count": 21,
   "id": "7286d5b2",
   "metadata": {},
   "outputs": [
    {
     "data": {
      "image/png": "[encoded data removed]",
      "text/plain": [
       "<Figure size 432x288 with 1 Axes>"
      ]
     },
     "metadata": {
      "needs_background": "light"
     },
     "output_type": "display_data"
    }
   ],
   "source": [
    "plt.plot(model_saved.history['accuracy'])\n",
    "plt.plot(model_saved.history['val_accuracy'])\n",
    "plt.title('model accuracy')\n",
    "plt.ylabel('accuracy')\n",
    "plt.xlabel('epoch')\n",
    "plt.legend(['train', 'test'], loc='upper left')\n",
    "plt.show()"
   ]
  },
  {
   "cell_type": "markdown",
   "id": "f19a2812",
   "metadata": {},
   "source": [
    "### Loss"
   ]
  },
  {
   "cell_type": "code",
   "execution_count": 22,
   "id": "1a09de5e",
   "metadata": {},
   "outputs": [
    {
     "data": {
      "image/png": "[encoded data removed]",
      "text/plain": [
       "<Figure size 432x288 with 1 Axes>"
      ]
     },
     "metadata": {
      "needs_background": "light"
     },
     "output_type": "display_data"
    }
   ],
   "source": [
    "plt.plot(model_saved.history['loss'])\n",
    "plt.plot(model_saved.history['val_loss'])\n",
    "plt.title('model loss')\n",
    "plt.ylabel('loss')\n",
    "plt.xlabel('epoch')\n",
    "plt.legend(['train', 'test'], loc='upper left')\n",
    "plt.show()"
   ]
  },
  {
   "cell_type": "markdown",
   "id": "7e4989d6",
   "metadata": {},
   "source": [
    "### Load the model and test accuracy"
   ]
  },
  {
   "cell_type": "code",
   "execution_count": 24,
   "id": "d3809150",
   "metadata": {},
   "outputs": [],
   "source": [
    "new_model = tf.keras.models.load_model('mymodel')"
   ]
  },
  {
   "cell_type": "code",
   "execution_count": 25,
   "id": "26f4e276",
   "metadata": {},
   "outputs": [
    {
     "name": "stdout",
     "output_type": "stream",
     "text": [
      "60/60 - 8s - loss: 0.3240 - accuracy: 0.9391 - 8s/epoch - 131ms/step\n",
      "Restored model, accuracy: 93.91%\n"
     ]
    }
   ],
   "source": [
    "loss, acc = new_model.evaluate(X_test, y_test, verbose=2)\n",
    "print('Restored model, accuracy: {:5.2f}%'.format(100 * acc))"
   ]
  },
  {
   "cell_type": "markdown",
   "id": "754f0675",
   "metadata": {},
   "source": [
    "## Predict a sample image"
   ]
  },
  {
   "cell_type": "code",
   "execution_count": 27,
   "id": "19ca2471",
   "metadata": {},
   "outputs": [],
   "source": [
    "sample_image = image.load_img('dataset/test/with_mask/with_mask_1011.jpg', target_size = (64, 64, 3))"
   ]
  },
  {
   "cell_type": "code",
   "execution_count": 28,
   "id": "d40fd52d",
   "metadata": {},
   "outputs": [
    {
     "data": {
      "image/png": "[encoded data removed]",
      "text/plain": [
       "<PIL.Image.Image image mode=RGB size=64x64 at 0x15FDA0610>"
      ]
     },
     "execution_count": 28,
     "metadata": {},
     "output_type": "execute_result"
    }
   ],
   "source": [
    "sample_image"
   ]
  },
  {
   "cell_type": "code",
   "execution_count": 29,
   "id": "fe713137",
   "metadata": {},
   "outputs": [],
   "source": [
    "sample_image = image.img_to_array(sample_image)\n",
    "sample_image = np.expand_dims(sample_image,axis=0)"
   ]
  },
  {
   "cell_type": "code",
   "execution_count": 30,
   "id": "59d8a775",
   "metadata": {},
   "outputs": [],
   "source": [
    "pred = cnn.predict(sample_image)"
   ]
  },
  {
   "cell_type": "code",
   "execution_count": 31,
   "id": "43919363",
   "metadata": {},
   "outputs": [
    {
     "data": {
      "text/plain": [
       "0.0"
      ]
     },
     "execution_count": 31,
     "metadata": {},
     "output_type": "execute_result"
    }
   ],
   "source": [
    "pred[0][0]"
   ]
  },
  {
   "cell_type": "code",
   "execution_count": 32,
   "id": "1daab9b5",
   "metadata": {},
   "outputs": [],
   "source": [
    "if pred[0][0] == 1:\n",
    "  prediction = 'without_mask'\n",
    "else:\n",
    "  prediction = 'with_mask'"
   ]
  },
  {
   "cell_type": "code",
   "execution_count": 33,
   "id": "779e2e15",
   "metadata": {},
   "outputs": [
    {
     "data": {
      "text/plain": [
       "'with_mask'"
      ]
     },
     "execution_count": 33,
     "metadata": {},
     "output_type": "execute_result"
    }
   ],
   "source": [
    "prediction"
   ]
  }
 ],
 "metadata": {
  "kernelspec": {
   "display_name": "Python 3 (ipykernel)",
   "language": "python",
   "name": "python3"
  },
  "language_info": {
   "codemirror_mode": {
    "name": "ipython",
    "version": 3
   },
   "file_extension": ".py",
   "mimetype": "text/x-python",
   "name": "python",
   "nbconvert_exporter": "python",
   "pygments_lexer": "ipython3",
   "version": "3.9.10"
  }
 },
 "nbformat": 4,
 "nbformat_minor": 5
}
